{
 "metadata": {
  "language_info": {
   "codemirror_mode": {
    "name": "ipython",
    "version": 3
   },
   "file_extension": ".py",
   "mimetype": "text/x-python",
   "name": "python",
   "nbconvert_exporter": "python",
   "pygments_lexer": "ipython3",
   "version": "3.9.2"
  },
  "orig_nbformat": 2,
  "kernelspec": {
   "name": "python392jvsc74a57bd0de914f62f1e06932e66cedef9a691444571c33ad49edfc2204df6cf622375246",
   "display_name": "Python 3.9.2 64-bit ('scenario': conda)"
  }
 },
 "nbformat": 4,
 "nbformat_minor": 2,
 "cells": [
  {
   "cell_type": "code",
   "execution_count": 1,
   "metadata": {},
   "outputs": [],
   "source": [
    "def palindromedescendant(palin_num):\n",
    "    stringvalue=str(palin_num)\n",
    "    if stringvalue==stringvalue[::-1]:\n",
    "        print('It is a palindrom')\n",
    "        return True\n",
    "    else:       \n",
    "        i=0\n",
    "        children=[]\n",
    "        while i<len(stringvalue):\n",
    "            children.append(int(stringvalue[i])+int(stringvalue[i+1])) \n",
    "            i+=2\n",
    "            print('It is not a palindrom')\n",
    "            return children"
   ]
  },
  {
   "cell_type": "code",
   "execution_count": 2,
   "metadata": {},
   "outputs": [
    {
     "output_type": "stream",
     "name": "stdout",
     "text": [
      "It is not a palindrom\n[2]\nIt is not a palindrom\n[3]\nIt is a palindrom\nTrue\nIt is a palindrom\nTrue\n"
     ]
    }
   ],
   "source": [
    "print(palindromedescendant(11342))\n",
    "print(palindromedescendant(123312))\n",
    "print(palindromedescendant(11233211))\n",
    "print(palindromedescendant(1123211))"
   ]
  },
  {
   "cell_type": "code",
   "execution_count": null,
   "metadata": {},
   "outputs": [],
   "source": []
  }
 ]
}